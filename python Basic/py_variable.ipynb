{
 "cells": [
  {
   "cell_type": "markdown",
   "id": "4e50958a",
   "metadata": {},
   "source": [
    "variables in python"
   ]
  },
  {
   "cell_type": "code",
   "execution_count": 2,
   "id": "c12d27b2",
   "metadata": {},
   "outputs": [],
   "source": [
    "## variables is created when we assign a value \n",
    "## Declaring and assigning variables\n",
    "\n",
    "age= 23\n",
    "name= \"nandini\"\n",
    "is_student = True"
   ]
  },
  {
   "cell_type": "code",
   "execution_count": 3,
   "id": "cb949960",
   "metadata": {},
   "outputs": [
    {
     "name": "stdout",
     "output_type": "stream",
     "text": [
      "age : 23\n",
      "name : nandini\n"
     ]
    }
   ],
   "source": [
    "## printint the variables\n",
    "print(\"age :\" , age)\n",
    "print(\"name :\", name)"
   ]
  },
  {
   "cell_type": "code",
   "execution_count": 4,
   "id": "17ac261b",
   "metadata": {},
   "outputs": [],
   "source": [
    "##Nameing convention \n",
    "# valid variables name\n",
    "first_name= \"Aryan\"\n",
    "last_name= \"Chaudhari\""
   ]
  },
  {
   "cell_type": "code",
   "execution_count": 5,
   "id": "468e090a",
   "metadata": {},
   "outputs": [
    {
     "ename": "IndentationError",
     "evalue": "unexpected indent (936126162.py, line 3)",
     "output_type": "error",
     "traceback": [
      "  \u001b[36mCell\u001b[39m\u001b[36m \u001b[39m\u001b[32mIn[5]\u001b[39m\u001b[32m, line 3\u001b[39m\n\u001b[31m    \u001b[39m\u001b[31m2age =30\u001b[39m\n    ^\n\u001b[31mIndentationError\u001b[39m\u001b[31m:\u001b[39m unexpected indent\n"
     ]
    }
   ],
   "source": [
    "# invalid variables name\n",
    "\n",
    " 2age =30\n",
    "first-name= \"aryan\"\n",
    "@name= nandini\n",
    "\n"
   ]
  },
  {
   "cell_type": "code",
   "execution_count": 9,
   "id": "ff9b28d9",
   "metadata": {},
   "outputs": [],
   "source": [
    "#type checking and conversion\n",
    "age= 25\n",
    "name = \"shruti\"\n",
    "height=5.5\n"
   ]
  },
  {
   "cell_type": "code",
   "execution_count": 8,
   "id": "0984bcad",
   "metadata": {},
   "outputs": [
    {
     "name": "stdout",
     "output_type": "stream",
     "text": [
      "<class 'float'>\n"
     ]
    }
   ],
   "source": [
    "print (type(height))"
   ]
  },
  {
   "cell_type": "code",
   "execution_count": 10,
   "id": "7533e09c",
   "metadata": {},
   "outputs": [
    {
     "name": "stdout",
     "output_type": "stream",
     "text": [
      "25\n",
      "<class 'str'>\n"
     ]
    }
   ],
   "source": [
    "## conversion\n",
    "age_str = str(age)\n",
    "print(age_str)\n",
    "print(type(age_str))"
   ]
  },
  {
   "cell_type": "code",
   "execution_count": 11,
   "id": "a79869e8",
   "metadata": {},
   "outputs": [
    {
     "name": "stdout",
     "output_type": "stream",
     "text": [
      "10 <class 'int'>\n",
      "nandini <class 'str'>\n",
      "5.1 <class 'float'>\n"
     ]
    }
   ],
   "source": [
    "## dynamic typing\n",
    "\n",
    "var=10\n",
    "print(var,type(var))\n",
    "\n",
    "var= \"nandini\"\n",
    "print(var,type(var))\n",
    "\n",
    "var=5.1\n",
    "print(var,type(var))\n"
   ]
  },
  {
   "cell_type": "code",
   "execution_count": 12,
   "id": "920d3136",
   "metadata": {},
   "outputs": [
    {
     "name": "stdout",
     "output_type": "stream",
     "text": [
      "23 <class 'int'>\n"
     ]
    }
   ],
   "source": [
    "## for  input\n",
    "a = int(input(\"what is your age\"))\n",
    "print(a,type(a))"
   ]
  }
 ],
 "metadata": {
  "kernelspec": {
   "display_name": "Python 3",
   "language": "python",
   "name": "python3"
  },
  "language_info": {
   "codemirror_mode": {
    "name": "ipython",
    "version": 3
   },
   "file_extension": ".py",
   "mimetype": "text/x-python",
   "name": "python",
   "nbconvert_exporter": "python",
   "pygments_lexer": "ipython3",
   "version": "3.12.0"
  }
 },
 "nbformat": 4,
 "nbformat_minor": 5
}
