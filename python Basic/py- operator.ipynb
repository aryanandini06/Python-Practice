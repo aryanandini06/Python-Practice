{
 "cells": [
  {
   "cell_type": "markdown",
   "id": "348de155",
   "metadata": {},
   "source": [
    "operator in python\n"
   ]
  },
  {
   "cell_type": "code",
   "execution_count": 1,
   "id": "dab5464c",
   "metadata": {},
   "outputs": [],
   "source": [
    "## Arithmatic Operator\n",
    "a=5\n",
    "b=10\n",
    "\n",
    "c=a+b\n",
    "d=a-b\n",
    "e=a*b\n",
    "f=a/b\n",
    "g=a//b"
   ]
  },
  {
   "cell_type": "code",
   "execution_count": 2,
   "id": "9f8774e8",
   "metadata": {},
   "outputs": [
    {
     "name": "stdout",
     "output_type": "stream",
     "text": [
      "15 -5 50 0.5 0\n"
     ]
    }
   ],
   "source": [
    "print(c,d,e,f,g)"
   ]
  },
  {
   "cell_type": "code",
   "execution_count": 5,
   "id": "05b1fe38",
   "metadata": {},
   "outputs": [
    {
     "ename": "NameError",
     "evalue": "name 'x' is not defined",
     "output_type": "error",
     "traceback": [
      "\u001b[31m---------------------------------------------------------------------------\u001b[39m",
      "\u001b[31mNameError\u001b[39m                                 Traceback (most recent call last)",
      "\u001b[36mCell\u001b[39m\u001b[36m \u001b[39m\u001b[32mIn[5]\u001b[39m\u001b[32m, line 3\u001b[39m\n\u001b[32m      1\u001b[39m \u001b[38;5;66;03m## logical operator\u001b[39;00m\n\u001b[32m      2\u001b[39m \u001b[38;5;66;03m#AND\u001b[39;00m\n\u001b[32m----> \u001b[39m\u001b[32m3\u001b[39m \u001b[43mx\u001b[49m==\u001b[38;5;28;01mTrue\u001b[39;00m, y==\u001b[38;5;28;01mTrue\u001b[39;00m\n\u001b[32m      4\u001b[39m result= x \u001b[38;5;129;01mand\u001b[39;00m y\n\u001b[32m      5\u001b[39m \u001b[38;5;28mprint\u001b[39m(result)\n",
      "\u001b[31mNameError\u001b[39m: name 'x' is not defined"
     ]
    }
   ],
   "source": [
    "## logical operator\n",
    "#AND\n",
    "x==True, y==True\n",
    "result= x and y\n",
    "print(result)\n",
    "\n",
    "#OR\n",
    "x==False , y==False\n",
    "result= x and y\n",
    "print(result)\n",
    "\n",
    "#not\n",
    "x==True , y==False\n",
    "result= x and y\n",
    "print(result)\n"
   ]
  },
  {
   "cell_type": "code",
   "execution_count": 7,
   "id": "e694d0aa",
   "metadata": {},
   "outputs": [
    {
     "name": "stdout",
     "output_type": "stream",
     "text": [
      "True False True True\n"
     ]
    }
   ],
   "source": [
    "#comparison\n",
    "a=10\n",
    "b=10\n",
    "z=5\n",
    "\n",
    "c= a==b\n",
    "d= a<z\n",
    "e= a>z\n",
    "f=a!=z\n",
    "print(c,d,e,f)\n"
   ]
  },
  {
   "cell_type": "code",
   "execution_count": null,
   "id": "4ece86ef",
   "metadata": {},
   "outputs": [],
   "source": []
  }
 ],
 "metadata": {
  "kernelspec": {
   "display_name": "Python 3",
   "language": "python",
   "name": "python3"
  },
  "language_info": {
   "codemirror_mode": {
    "name": "ipython",
    "version": 3
   },
   "file_extension": ".py",
   "mimetype": "text/x-python",
   "name": "python",
   "nbconvert_exporter": "python",
   "pygments_lexer": "ipython3",
   "version": "3.12.0"
  }
 },
 "nbformat": 4,
 "nbformat_minor": 5
}
