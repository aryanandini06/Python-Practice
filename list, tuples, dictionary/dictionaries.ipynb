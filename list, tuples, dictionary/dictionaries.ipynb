{
 "cells": [
  {
   "cell_type": "markdown",
   "id": "f1445cc5",
   "metadata": {},
   "source": [
    "Dictionarise -- same as list but  they stored data in key_value pair and every key should be unique   =={}"
   ]
  },
  {
   "cell_type": "code",
   "execution_count": 4,
   "id": "dbd9a23b",
   "metadata": {},
   "outputs": [
    {
     "name": "stdout",
     "output_type": "stream",
     "text": [
      "<class 'dict'>\n",
      "{'roll_no': 1, 'name': 'nandini', 'grade': 84.09}\n",
      "<class 'dict'>\n"
     ]
    }
   ],
   "source": [
    "\n",
    " empty_dict={}      #creating dictionaries\n",
    " print(type(empty_dict))\n",
    "\n",
    " students={\"roll_no\":1,\"name\":\"nandini\",\"grade\":84.09}\n",
    " print(students)\n",
    " print(type(students))"
   ]
  },
  {
   "cell_type": "markdown",
   "id": "d8d05945",
   "metadata": {},
   "source": [
    "accessing"
   ]
  },
  {
   "cell_type": "code",
   "execution_count": null,
   "id": "2e080f14",
   "metadata": {},
   "outputs": [
    {
     "name": "stdout",
     "output_type": "stream",
     "text": [
      "84.09\n",
      "nandini\n",
      "84.09\n"
     ]
    }
   ],
   "source": [
    "print(students['grade'])\n",
    "print(students['name'])\n",
    "\n",
    "print(students.get('grade'))   # using get() method"
   ]
  },
  {
   "cell_type": "markdown",
   "id": "5f1464d3",
   "metadata": {},
   "source": [
    "modifying element"
   ]
  },
  {
   "cell_type": "code",
   "execution_count": 19,
   "id": "ba2866f8",
   "metadata": {},
   "outputs": [
    {
     "name": "stdout",
     "output_type": "stream",
     "text": [
      "{'roll_no': 2, 'grade': 84.09, 'age': 12, 'name': 'mayuri'}\n"
     ]
    }
   ],
   "source": [
    "students[\"age\"]=12  # update age\n",
    "\n",
    "students[\"roll_no\"]=2  # add new key \n",
    "\n",
    "del students[\"name\"]  # del one key\n",
    "\n",
    "students[\"name\"]=\"mayuri\"\n",
    "\n",
    "print(students)"
   ]
  },
  {
   "cell_type": "markdown",
   "id": "6d1379ca",
   "metadata": {},
   "source": [
    "shallow copy"
   ]
  },
  {
   "cell_type": "code",
   "execution_count": 20,
   "id": "767d6ac9",
   "metadata": {},
   "outputs": [
    {
     "name": "stdout",
     "output_type": "stream",
     "text": [
      "{'roll_no': 2, 'grade': 84.09, 'age': 12, 'name': 'mayuri'}\n",
      "{'roll_no': 2, 'grade': 84.09, 'age': 12, 'name': 'mayuri'}\n"
     ]
    }
   ],
   "source": [
    "students_copy1=students.copy()\n",
    "print(students_copy1)\n",
    "print(students) \n",
    "\n"
   ]
  },
  {
   "cell_type": "markdown",
   "id": "7b78dddc",
   "metadata": {},
   "source": [
    "iterating over Dictionaries"
   ]
  },
  {
   "cell_type": "code",
   "execution_count": null,
   "id": "2ce33def",
   "metadata": {},
   "outputs": [
    {
     "name": "stdout",
     "output_type": "stream",
     "text": [
      "roll_no\n",
      "grade\n",
      "age\n",
      "name\n",
      "2\n",
      "84.09\n",
      "12\n",
      "mayuri\n",
      "roll_no:2\n",
      "grade:84.09\n",
      "age:12\n",
      "name:mayuri\n"
     ]
    }
   ],
   "source": [
    "for keys in students.keys():   # keys\n",
    "  print(keys)\n",
    "\n",
    "for value in students.values():   # values\n",
    "  print(value)\n",
    "\n",
    "for keys,value in students.items():  # item\n",
    "  print (f\"{keys}:{value}\")\n",
    " "
   ]
  },
  {
   "cell_type": "markdown",
   "id": "b30547f5",
   "metadata": {},
   "source": [
    "nested dist"
   ]
  },
  {
   "cell_type": "code",
   "execution_count": null,
   "id": "85db8990",
   "metadata": {},
   "outputs": [
    {
     "name": "stdout",
     "output_type": "stream",
     "text": [
      "{'stud1': {'name': 'nandini', 'age': 22}, 'stud2': {'name': 'Aryan', 'age': 12}, 'stud3': {'name': 'shruti', 'age': 21}}\n",
      "Aryan\n",
      "21\n",
      "stud1:{'name': 'nandini', 'age': 22}\n",
      "name:nandini\n",
      "age:22\n",
      "stud2:{'name': 'Aryan', 'age': 12}\n",
      "name:Aryan\n",
      "age:12\n",
      "stud3:{'name': 'shruti', 'age': 21}\n",
      "name:shruti\n",
      "age:21\n"
     ]
    }
   ],
   "source": [
    "students={\n",
    "  \"stud1\":{\"name\":\"nandini\", \"age\":22},\n",
    "   \"stud2\":{\"name\":\"Aryan\", \"age\":12},\n",
    "    \"stud3\":{\"name\":\"shruti\", \"age\":21},\n",
    "}\n",
    "print(students)\n",
    "\n",
    "print(students[\"stud2\"][\"name\"])\n",
    "print(students[\"stud3\"][\"age\"])\n",
    "\n",
    "for student_id,student_info in students.items():   ## iterating over nested dictionaries\n",
    "  print(f\"{student_id}:{student_info}\")\n",
    "  for key,value in student_info.items():\n",
    "    print(f\"{key}:{value}\")\n",
    "   "
   ]
  },
  {
   "cell_type": "markdown",
   "id": "169f13e0",
   "metadata": {},
   "source": [
    "Dictionary Comphrehension"
   ]
  },
  {
   "cell_type": "code",
   "execution_count": 36,
   "id": "38900e8a",
   "metadata": {},
   "outputs": [
    {
     "name": "stdout",
     "output_type": "stream",
     "text": [
      "{0: 0, 2: 4, 4: 16, 6: 36, 8: 64}\n"
     ]
    }
   ],
   "source": [
    "even={x:x**2 for x in range(10) if x%2==0}\n",
    "print(even)"
   ]
  },
  {
   "cell_type": "markdown",
   "id": "646e8db3",
   "metadata": {},
   "source": [
    "example\n",
    " ## use a dictionary to count he frequency of elements in list"
   ]
  },
  {
   "cell_type": "code",
   "execution_count": 3,
   "id": "e00ae633",
   "metadata": {},
   "outputs": [
    {
     "name": "stdout",
     "output_type": "stream",
     "text": [
      "{1: 1, 2: 2, 3: 3, 4: 3}\n"
     ]
    }
   ],
   "source": [
    "number=[1,2,2,3,3,3,4,4,4]\n",
    "frequency={}\n",
    "\n",
    "for number in number:\n",
    "  if number in frequency:\n",
    "    frequency[number]+=1\n",
    "  else:\n",
    "    frequency[number]=1\n",
    "print(frequency)"
   ]
  },
  {
   "cell_type": "markdown",
   "id": "5eb9729f",
   "metadata": {},
   "source": [
    "merged to dictionaries"
   ]
  },
  {
   "cell_type": "code",
   "execution_count": 5,
   "id": "46a84e31",
   "metadata": {},
   "outputs": [
    {
     "name": "stdout",
     "output_type": "stream",
     "text": [
      "{'a': 1, 'b': 3, 'c': 4}\n"
     ]
    }
   ],
   "source": [
    "dict1={\"a\":1,\"b\":2}\n",
    "dict2={\"b\":3,\"c\":4}\n",
    "merged_dist={**dict1,**dict2}\n",
    "print(merged_dist)"
   ]
  },
  {
   "cell_type": "code",
   "execution_count": null,
   "id": "24788735",
   "metadata": {},
   "outputs": [],
   "source": []
  }
 ],
 "metadata": {
  "kernelspec": {
   "display_name": "Python 3",
   "language": "python",
   "name": "python3"
  },
  "language_info": {
   "codemirror_mode": {
    "name": "ipython",
    "version": 3
   },
   "file_extension": ".py",
   "mimetype": "text/x-python",
   "name": "python",
   "nbconvert_exporter": "python",
   "pygments_lexer": "ipython3",
   "version": "3.12.0"
  }
 },
 "nbformat": 4,
 "nbformat_minor": 5
}
