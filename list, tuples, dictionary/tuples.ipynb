{
 "cells": [
  {
   "cell_type": "markdown",
   "id": "ebbe60a7",
   "metadata": {},
   "source": [
    "##tuples \n",
    " tuple is like a list  but its immutable nature makes them different"
   ]
  },
  {
   "cell_type": "code",
   "execution_count": 1,
   "id": "473d1ef0",
   "metadata": {},
   "outputs": [
    {
     "name": "stdout",
     "output_type": "stream",
     "text": [
      "()\n",
      "<class 'tuple'>\n"
     ]
    }
   ],
   "source": [
    "# creating tuples \n",
    "empty_tuple=()\n",
    "print(empty_tuple)\n",
    "print(type(empty_tuple))"
   ]
  },
  {
   "cell_type": "code",
   "execution_count": 14,
   "id": "01c31d3f",
   "metadata": {},
   "outputs": [
    {
     "name": "stdout",
     "output_type": "stream",
     "text": [
      "[1, 1, 2, 3, 4, 5, 6]\n",
      "[1, 'hello', 3.14]\n"
     ]
    }
   ],
   "source": [
    "\n",
    " num=([1,1,2,3,4,5,6])  # example \n",
    " print(num)\n",
    "\n",
    " mix_tuple=([1,\"hello\",3.14])\n",
    " print(mix_tuple)"
   ]
  },
  {
   "cell_type": "markdown",
   "id": "e397336f",
   "metadata": {},
   "source": [
    "tuples operation"
   ]
  },
  {
   "cell_type": "code",
   "execution_count": 12,
   "id": "994b4f49",
   "metadata": {},
   "outputs": [
    {
     "data": {
      "text/plain": [
       "[1, 'hello', 3.14, 1, 'hello', 3.14, 1, 'hello', 3.14]"
      ]
     },
     "execution_count": 12,
     "metadata": {},
     "output_type": "execute_result"
    }
   ],
   "source": [
    "# concatition\n",
    "num + mix_tuple \n",
    "\n",
    "mix_tuple*3"
   ]
  },
  {
   "cell_type": "markdown",
   "id": "bfa5be16",
   "metadata": {},
   "source": [
    "tuple mathod"
   ]
  },
  {
   "cell_type": "code",
   "execution_count": null,
   "id": "5c62c570",
   "metadata": {},
   "outputs": [
    {
     "name": "stdout",
     "output_type": "stream",
     "text": [
      "2\n",
      "2\n"
     ]
    }
   ],
   "source": [
    "# count\n",
    "\n",
    "print(num.count(1))  ## its count how many time the given number is present\n",
    "\n",
    "print(num.index(2))  ## its show what the index of given number"
   ]
  },
  {
   "cell_type": "markdown",
   "id": "67b9f239",
   "metadata": {},
   "source": [
    "packing unpacking tuple"
   ]
  },
  {
   "cell_type": "code",
   "execution_count": null,
   "id": "b557563b",
   "metadata": {},
   "outputs": [
    {
     "name": "stdout",
     "output_type": "stream",
     "text": [
      "(1, 3, 'hello')\n",
      "1\n",
      "3\n",
      "hello\n"
     ]
    }
   ],
   "source": [
    "# packing tuple \n",
    "p_tuple=1,3,\"hello\"\n",
    "print(p_tuple)\n",
    "\n",
    "# unpacking tuple   ## print sepretly from tuple\n",
    "a,b,c= p_tuple\n",
    "print(a)\n",
    "print(b)\n",
    "print(c)"
   ]
  },
  {
   "cell_type": "markdown",
   "id": "9e7bb9a0",
   "metadata": {},
   "source": [
    "nested tuple"
   ]
  },
  {
   "cell_type": "code",
   "execution_count": 25,
   "id": "2468c859",
   "metadata": {},
   "outputs": [
    {
     "name": "stdout",
     "output_type": "stream",
     "text": [
      "[1, 2, 3]\n",
      "['hello', 1]\n"
     ]
    }
   ],
   "source": [
    "lst1=[[1,2,3],[\"a\",\"b\",\"c\"],[\"hello\",1,3.14]]\n",
    "print(lst1[0][0:3])\n",
    "print(lst1[2][:2])"
   ]
  },
  {
   "cell_type": "code",
   "execution_count": null,
   "id": "f2c1ad27",
   "metadata": {},
   "outputs": [],
   "source": []
  }
 ],
 "metadata": {
  "kernelspec": {
   "display_name": "Python 3",
   "language": "python",
   "name": "python3"
  },
  "language_info": {
   "codemirror_mode": {
    "name": "ipython",
    "version": 3
   },
   "file_extension": ".py",
   "mimetype": "text/x-python",
   "name": "python",
   "nbconvert_exporter": "python",
   "pygments_lexer": "ipython3",
   "version": "3.12.0"
  }
 },
 "nbformat": 4,
 "nbformat_minor": 5
}
