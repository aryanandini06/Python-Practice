{
 "cells": [
  {
   "cell_type": "markdown",
   "id": "842a5226",
   "metadata": {},
   "source": [
    "List"
   ]
  },
  {
   "cell_type": "code",
   "execution_count": 2,
   "id": "65fc9812",
   "metadata": {},
   "outputs": [
    {
     "name": "stdout",
     "output_type": "stream",
     "text": [
      "<class 'list'>\n"
     ]
    }
   ],
   "source": [
    "lst=[]\n",
    "print (type(lst))\n"
   ]
  },
  {
   "cell_type": "code",
   "execution_count": 3,
   "id": "15c709cf",
   "metadata": {},
   "outputs": [
    {
     "name": "stdout",
     "output_type": "stream",
     "text": [
      "['krish', 'nandu', 'aryan', 'ragav', 'shruti', 'dev']\n"
     ]
    }
   ],
   "source": [
    "name=[\"krish\",\"nandu\",\"aryan\",\"ragav\",\"shruti\",\"dev\"]\n",
    "print(name)"
   ]
  },
  {
   "cell_type": "code",
   "execution_count": 5,
   "id": "b448ac97",
   "metadata": {},
   "outputs": [
    {
     "name": "stdout",
     "output_type": "stream",
     "text": [
      "mango\n",
      "cherry\n",
      "['banana', 'cherry', 'kiwi', 'mango']\n",
      "['banana', 'cherry']\n"
     ]
    }
   ],
   "source": [
    "\n",
    "fruit=[\"apple\",\"banana\",\"cherry\",\"kiwi\",\"mango\"]\n",
    "\n",
    " # for display\n",
    "print(fruit[-1])\n",
    "print(fruit[2])\n",
    "print(fruit[1:])\n",
    "print(fruit[1:3])"
   ]
  },
  {
   "cell_type": "code",
   "execution_count": null,
   "id": "9c998f5c",
   "metadata": {},
   "outputs": [
    {
     "name": "stdout",
     "output_type": "stream",
     "text": [
      "['apple', 'watermelon', 'cherry', 'kiwi', 'mango']\n"
     ]
    }
   ],
   "source": [
    "fruit[1]=\"watermelon\"   # modify list\n",
    "print(fruit)"
   ]
  },
  {
   "cell_type": "markdown",
   "id": "71967ae2",
   "metadata": {},
   "source": [
    "list method"
   ]
  },
  {
   "cell_type": "code",
   "execution_count": null,
   "id": "e270ab46",
   "metadata": {},
   "outputs": [
    {
     "name": "stdout",
     "output_type": "stream",
     "text": [
      "['apple', 'papaya', 'banana', 'kiwi', 'mango', 'orange', 'orange']\n",
      "['apple', 'papaya', 'papaya', 'banana', 'kiwi', 'mango', 'orange', 'orange']\n",
      "['apple', 'papaya', 'banana', 'kiwi', 'mango', 'orange', 'orange']\n"
     ]
    }
   ],
   "source": [
    "fruit.append(\"orange\")\n",
    "print (fruit)\n",
    "\n",
    "fruit.insert(1,\"papaya\")\n",
    "print(fruit)\n",
    "\n",
    "fruit.remove(\"papaya\")\n",
    "print(fruit)\n",
    "\n",
    "fruit.sort()\n",
    "\n",
    "fruit.reverse()\n",
    "\n",
    "fruit.clear()"
   ]
  },
  {
   "cell_type": "code",
   "execution_count": 29,
   "id": "b402cffa",
   "metadata": {},
   "outputs": [
    {
     "name": "stdout",
     "output_type": "stream",
     "text": [
      "orange\n",
      "0\n",
      "['apple', 'papaya', 'banana', 'kiwi', 'mango', 'orange']\n"
     ]
    }
   ],
   "source": [
    "poped_fruit=fruit.pop()\n",
    "print(poped_fruit)\n",
    "\n",
    "index=fruit.index(\"apple\")\n",
    "print(index) \n",
    "\n",
    "fruit.remove(\"papaya\")\n",
    "print(fruit)\n",
    "\n"
   ]
  },
  {
   "cell_type": "code",
   "execution_count": null,
   "id": "fc6697cc",
   "metadata": {},
   "outputs": [
    {
     "name": "stdout",
     "output_type": "stream",
     "text": [
      "[3, 4, 5]\n",
      "[1, 2, 3, 4, 5]\n",
      "[6, 7, 8, 9, 10]\n",
      "[1, 3, 5, 7, 9]\n",
      "[10, 9, 8, 7, 6, 5, 4, 3, 2, 1]\n"
     ]
    }
   ],
   "source": [
    "number=[1,2,3,4,5,6,7,8,9,10]    # slicing list\n",
    "print(number[2:5])\n",
    "print(number[:5])\n",
    "print(number[5:])\n",
    "print(number[::2])\n",
    "print(number[::-1])\n",
    "\n"
   ]
  },
  {
   "cell_type": "code",
   "execution_count": null,
   "id": "371a9a44",
   "metadata": {},
   "outputs": [
    {
     "name": "stdout",
     "output_type": "stream",
     "text": [
      "0 1\n",
      "1 2\n",
      "2 3\n",
      "3 4\n",
      "4 5\n",
      "5 6\n",
      "6 7\n",
      "7 8\n",
      "8 9\n",
      "9 10\n"
     ]
    }
   ],
   "source": [
    "for index, number in enumerate(number):   ## Iterating\n",
    "  print(index,number)"
   ]
  },
  {
   "cell_type": "code",
   "execution_count": null,
   "id": "f15289ff",
   "metadata": {},
   "outputs": [
    {
     "name": "stdout",
     "output_type": "stream",
     "text": [
      "[0, 1, 4, 9, 16, 25, 36, 49, 64, 81]\n",
      "[0, 2, 4, 6, 8]\n",
      "[(1, 'a'), (1, 'b'), (1, 'c'), (1, 'd'), (2, 'a'), (2, 'b'), (2, 'c'), (2, 'd'), (3, 'a'), (3, 'b'), (3, 'c'), (3, 'd'), (4, 'a'), (4, 'b'), (4, 'c'), (4, 'd')]\n"
     ]
    }
   ],
   "source": [
    "square= [num**2  for num in range(10)]   # comprehention type\n",
    "print(square)\n",
    "\n",
    "even_num =[num for  num in range(10) if num%2==0]   \n",
    "print(even_num)\n",
    "\n",
    "lst1=[1,2,3,4]\n",
    "lst2=['a','b','c','d']\n",
    "\n",
    "pair=[(i,j )for i in lst1 for j in lst2]\n",
    "print(pair)"
   ]
  },
  {
   "cell_type": "code",
   "execution_count": null,
   "id": "62756f8d",
   "metadata": {},
   "outputs": [],
   "source": []
  }
 ],
 "metadata": {
  "kernelspec": {
   "display_name": "Python 3",
   "language": "python",
   "name": "python3"
  },
  "language_info": {
   "codemirror_mode": {
    "name": "ipython",
    "version": 3
   },
   "file_extension": ".py",
   "mimetype": "text/x-python",
   "name": "python",
   "nbconvert_exporter": "python",
   "pygments_lexer": "ipython3",
   "version": "3.12.0"
  }
 },
 "nbformat": 4,
 "nbformat_minor": 5
}
