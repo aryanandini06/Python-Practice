{
 "cells": [
  {
   "cell_type": "markdown",
   "id": "5ed6a9d4",
   "metadata": {},
   "source": [
    "## iterator"
   ]
  },
  {
   "cell_type": "code",
   "execution_count": 2,
   "id": "5048296b",
   "metadata": {},
   "outputs": [
    {
     "name": "stdout",
     "output_type": "stream",
     "text": [
      "<class 'list_iterator'>\n"
     ]
    }
   ],
   "source": [
    "my_list=([1,2,3,4])\n",
    "\n",
    "iterator = iter(my_list)\n",
    "print(type(iterator))"
   ]
  },
  {
   "cell_type": "code",
   "execution_count": 5,
   "id": "8e9ea532",
   "metadata": {},
   "outputs": [
    {
     "data": {
      "text/plain": [
       "3"
      ]
     },
     "execution_count": 5,
     "metadata": {},
     "output_type": "execute_result"
    }
   ],
   "source": [
    "## terator  through all the element\n",
    "next(iterator)"
   ]
  },
  {
   "cell_type": "code",
   "execution_count": 7,
   "id": "ff2b44ea",
   "metadata": {},
   "outputs": [],
   "source": [
    "## try -except\n",
    "\n",
    "iterator= iter(my_list)\n",
    "\n",
    "try:\n",
    "  next(iterator)\n",
    "except StopIterator :\n",
    "  print(\"there are no element\")\n",
    "\n"
   ]
  },
  {
   "cell_type": "code",
   "execution_count": 9,
   "id": "cd3fdbf8",
   "metadata": {},
   "outputs": [
    {
     "name": "stdout",
     "output_type": "stream",
     "text": [
      "h\n",
      "e\n"
     ]
    }
   ],
   "source": [
    "## sring iteration \n",
    "\n",
    "my_string = \"hello\"\n",
    "\n",
    "string_iterator= iter(my_string)\n",
    "\n",
    "print(next(string_iterator))\n",
    "print(next(string_iterator))"
   ]
  },
  {
   "cell_type": "code",
   "execution_count": null,
   "id": "72ff5f20",
   "metadata": {},
   "outputs": [],
   "source": []
  }
 ],
 "metadata": {
  "kernelspec": {
   "display_name": "Python 3",
   "language": "python",
   "name": "python3"
  },
  "language_info": {
   "codemirror_mode": {
    "name": "ipython",
    "version": 3
   },
   "file_extension": ".py",
   "mimetype": "text/x-python",
   "name": "python",
   "nbconvert_exporter": "python",
   "pygments_lexer": "ipython3",
   "version": "3.12.0"
  }
 },
 "nbformat": 4,
 "nbformat_minor": 5
}
