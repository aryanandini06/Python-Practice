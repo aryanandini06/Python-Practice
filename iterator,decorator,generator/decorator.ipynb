{
 "cells": [
  {
   "cell_type": "markdown",
   "id": "fa4a3a2e",
   "metadata": {},
   "source": [
    "#Decorator"
   ]
  },
  {
   "cell_type": "code",
   "execution_count": null,
   "id": "0ddb12b9",
   "metadata": {},
   "outputs": [],
   "source": [
    "# closures\n",
    "def main_welcome(func):\n",
    "\n",
    "  def sub_welcome_method():\n",
    "   print(\"welcome to  the advance python course\")\n",
    "   func(\"welcome everyone to this tutorial\")\n",
    "   print(\"Please learn these concepts properly\")\n",
    "  return sub_welcome_method()"
   ]
  },
  {
   "cell_type": "code",
   "execution_count": 5,
   "id": "75049102",
   "metadata": {},
   "outputs": [
    {
     "name": "stdout",
     "output_type": "stream",
     "text": [
      "welcome to  the advance python course\n",
      "welcome everyone to this tutorial\n",
      "Please learn these concepts properly\n"
     ]
    }
   ],
   "source": [
    "main_welcome(print)"
   ]
  },
  {
   "cell_type": "code",
   "execution_count": 7,
   "id": "7292a087",
   "metadata": {},
   "outputs": [
    {
     "name": "stdout",
     "output_type": "stream",
     "text": [
      "welcome to  the advance python course\n",
      "5\n",
      "Please learn these concepts properly\n"
     ]
    }
   ],
   "source": [
    "def main_welcome(func,lst):\n",
    "\n",
    "  def sub_welcome_method():\n",
    "   print(\"welcome to  the advance python course\")\n",
    "   print(func(lst))\n",
    "   print(\"Please learn these concepts properly\")\n",
    "  return sub_welcome_method()\n",
    "\n",
    "\n",
    "main_welcome(len,[1,2,3,4,5])"
   ]
  },
  {
   "cell_type": "code",
   "execution_count": 8,
   "id": "ac92f04e",
   "metadata": {},
   "outputs": [],
   "source": [
    "## decorator  \n",
    "\n",
    "def my_decorator(func):\n",
    "  def wrapper():\n",
    "    print(\"something is happening beforethe function  is called\")\n",
    "    func()\n",
    "    print(\"something is happening after the function is called.\")\n",
    "  return wrapper"
   ]
  },
  {
   "cell_type": "code",
   "execution_count": 10,
   "id": "040bd3e5",
   "metadata": {},
   "outputs": [
    {
     "name": "stdout",
     "output_type": "stream",
     "text": [
      "something is happening beforethe function  is called\n",
      "hello\n",
      "something is happening after the function is called.\n"
     ]
    }
   ],
   "source": [
    "@my_decorator\n",
    "def say_hello():\n",
    "  print(\"hello\")\n",
    "\n",
    "\n",
    "say_hello()"
   ]
  },
  {
   "cell_type": "code",
   "execution_count": 11,
   "id": "88e0f75a",
   "metadata": {},
   "outputs": [],
   "source": [
    "def main_welcome(func):\n",
    "\n",
    "  def sub_welcome_method():\n",
    "    print(\"welcome to the advance python course\")\n",
    "    func()\n",
    "    print(\"please learn these concept properly\")\n",
    "  return sub_welcome_method()"
   ]
  },
  {
   "cell_type": "code",
   "execution_count": 12,
   "id": "67acb4ef",
   "metadata": {},
   "outputs": [
    {
     "name": "stdout",
     "output_type": "stream",
     "text": [
      "This is an advance python course\n"
     ]
    }
   ],
   "source": [
    "def coures_introduction():\n",
    "  print(\"This is an advance python course\")\n",
    "\n",
    "coures_introduction()"
   ]
  },
  {
   "cell_type": "code",
   "execution_count": null,
   "id": "1f1ef5af",
   "metadata": {},
   "outputs": [
    {
     "name": "stdout",
     "output_type": "stream",
     "text": [
      "welcome to the advance python course\n",
      "This is an advance python course\n",
      "please learn these concept properly\n"
     ]
    }
   ],
   "source": [
    "main_welcome(coures_introduction)   ## method 1"
   ]
  },
  {
   "cell_type": "code",
   "execution_count": null,
   "id": "f7fd41fb",
   "metadata": {},
   "outputs": [
    {
     "name": "stdout",
     "output_type": "stream",
     "text": [
      "welcome to the advance python course\n",
      "This is an advance python course\n",
      "please learn these concept properly\n"
     ]
    }
   ],
   "source": [
    "@main_welcome    ### as a decorator  use @ \n",
    "def coures_introduction():\n",
    "  print(\"This is an advance python course\")"
   ]
  },
  {
   "cell_type": "code",
   "execution_count": 15,
   "id": "9f8c35f9",
   "metadata": {},
   "outputs": [],
   "source": [
    "## Decorator with arguments\n",
    "\n",
    "def repeat(n):\n",
    "  def decorator(func):\n",
    "    def wrapper(*args, **kargs):\n",
    "      for _ in range(n):\n",
    "        func(*args, **kargs)\n",
    "    return wrapper\n",
    "  return decorator"
   ]
  },
  {
   "cell_type": "code",
   "execution_count": 16,
   "id": "4f5e93cc",
   "metadata": {},
   "outputs": [],
   "source": [
    "@repeat(3)\n",
    "def say_hello():\n",
    "  print(\"hello\")"
   ]
  },
  {
   "cell_type": "code",
   "execution_count": 17,
   "id": "bfeaffb6",
   "metadata": {},
   "outputs": [
    {
     "name": "stdout",
     "output_type": "stream",
     "text": [
      "hello\n",
      "hello\n",
      "hello\n"
     ]
    }
   ],
   "source": [
    "say_hello()"
   ]
  },
  {
   "cell_type": "code",
   "execution_count": null,
   "id": "426d9d16",
   "metadata": {},
   "outputs": [],
   "source": []
  }
 ],
 "metadata": {
  "kernelspec": {
   "display_name": "Python 3",
   "language": "python",
   "name": "python3"
  },
  "language_info": {
   "codemirror_mode": {
    "name": "ipython",
    "version": 3
   },
   "file_extension": ".py",
   "mimetype": "text/x-python",
   "name": "python",
   "nbconvert_exporter": "python",
   "pygments_lexer": "ipython3",
   "version": "3.12.0"
  }
 },
 "nbformat": 4,
 "nbformat_minor": 5
}
