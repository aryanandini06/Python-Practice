{
 "cells": [
  {
   "cell_type": "markdown",
   "id": "1f91cacb",
   "metadata": {},
   "source": [
    "#lambda and map"
   ]
  },
  {
   "cell_type": "markdown",
   "id": "da0bbc89",
   "metadata": {},
   "source": [
    "# lambda function"
   ]
  },
  {
   "cell_type": "code",
   "execution_count": null,
   "id": "9498c9df",
   "metadata": {},
   "outputs": [
    {
     "ename": "IndentationError",
     "evalue": "unindent does not match any outer indentation level (<string>, line 5)",
     "output_type": "error",
     "traceback": [
      "  \u001b[36mFile \u001b[39m\u001b[32m<string>:5\u001b[39m\n\u001b[31m    \u001b[39m\u001b[31maddition=lambda a,b:a+b\u001b[39m\n                           ^\n\u001b[31mIndentationError\u001b[39m\u001b[31m:\u001b[39m unindent does not match any outer indentation level\n"
     ]
    }
   ],
   "source": [
    "# example\n",
    "\n",
    "def addition (a,b):\n",
    "  retrun a=b\n",
    "\n",
    "# using lambda\n",
    " addition=lambda a,b:a+b\n",
    "\n",
    "\n",
    " print(addition(10,3))"
   ]
  },
  {
   "cell_type": "code",
   "execution_count": 18,
   "id": "3e6e3c39",
   "metadata": {},
   "outputs": [
    {
     "data": {
      "text/plain": [
       "False"
      ]
     },
     "execution_count": 18,
     "metadata": {},
     "output_type": "execute_result"
    }
   ],
   "source": [
    "even1 = lambda num: num%2==0\n",
    "even1(23)"
   ]
  },
  {
   "cell_type": "code",
   "execution_count": 20,
   "id": "a6f22783",
   "metadata": {},
   "outputs": [
    {
     "data": {
      "text/plain": [
       "6"
      ]
     },
     "execution_count": 20,
     "metadata": {},
     "output_type": "execute_result"
    }
   ],
   "source": [
    "# multiple parameters\n",
    "add= lambda x,y,z:x+y+z\n",
    "add(1,2,3)"
   ]
  },
  {
   "cell_type": "markdown",
   "id": "ad30cae9",
   "metadata": {},
   "source": [
    "# map"
   ]
  },
  {
   "cell_type": "code",
   "execution_count": 33,
   "id": "eab4d24b",
   "metadata": {},
   "outputs": [],
   "source": [
    "# example  \n",
    "\n",
    "def square(x):\n",
    "  return x*x\n",
    "\n",
    "number=[1,3,2,5,10,51]\n"
   ]
  },
  {
   "cell_type": "code",
   "execution_count": 32,
   "id": "4689d6ff",
   "metadata": {},
   "outputs": [
    {
     "data": {
      "text/plain": [
       "[1, 9, 4, 25, 100, 2601]"
      ]
     },
     "execution_count": 32,
     "metadata": {},
     "output_type": "execute_result"
    }
   ],
   "source": [
    " map(square,number)\n",
    " list (map(square,number))"
   ]
  },
  {
   "cell_type": "code",
   "execution_count": 34,
   "id": "f9c5a48d",
   "metadata": {},
   "outputs": [
    {
     "data": {
      "text/plain": [
       "[1, 9, 4, 25, 100, 2601]"
      ]
     },
     "execution_count": 34,
     "metadata": {},
     "output_type": "execute_result"
    }
   ],
   "source": [
    "# lambda function with map\n",
    "\n",
    "list (map(lambda x:x*x,number))"
   ]
  },
  {
   "cell_type": "code",
   "execution_count": null,
   "id": "8badb3d8",
   "metadata": {},
   "outputs": [],
   "source": []
  }
 ],
 "metadata": {
  "kernelspec": {
   "display_name": "Python 3",
   "language": "python",
   "name": "python3"
  },
  "language_info": {
   "codemirror_mode": {
    "name": "ipython",
    "version": 3
   },
   "file_extension": ".py",
   "mimetype": "text/x-python",
   "name": "python",
   "nbconvert_exporter": "python",
   "pygments_lexer": "ipython3",
   "version": "3.12.0"
  }
 },
 "nbformat": 4,
 "nbformat_minor": 5
}
