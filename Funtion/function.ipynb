{
 "cells": [
  {
   "cell_type": "markdown",
   "id": "8f2d9b17",
   "metadata": {},
   "source": [
    "funtion"
   ]
  },
  {
   "cell_type": "code",
   "execution_count": 4,
   "id": "3c8e73ac",
   "metadata": {},
   "outputs": [
    {
     "name": "stdout",
     "output_type": "stream",
     "text": [
      "323 is odd number\n"
     ]
    }
   ],
   "source": [
    "# create function\n",
    "\n",
    "def even_odd(num):\n",
    "  if num%2==0:\n",
    "    print(num,\"is even number\")\n",
    "  else:\n",
    "    print(num,\"is odd number\")\n",
    "\n",
    "\n",
    "## for call the function\n",
    "even_odd(323)\n"
   ]
  },
  {
   "cell_type": "code",
   "execution_count": 6,
   "id": "32ce17c1",
   "metadata": {},
   "outputs": [
    {
     "data": {
      "text/plain": [
       "25"
      ]
     },
     "execution_count": 6,
     "metadata": {},
     "output_type": "execute_result"
    }
   ],
   "source": [
    "## function with multiple paremeter\n",
    "\n",
    "def add(a,b):\n",
    "  c=a+b\n",
    "  return c\n",
    "\n",
    "add(23,2)\n"
   ]
  },
  {
   "cell_type": "code",
   "execution_count": null,
   "id": "46ea3ead",
   "metadata": {},
   "outputs": [
    {
     "name": "stdout",
     "output_type": "stream",
     "text": [
      "hello  krish .. welcome to dhule\n",
      "None\n"
     ]
    }
   ],
   "source": [
    "## default parameter\n",
    "\n",
    "def greet(name):\n",
    "  print(f\"hello  {name} .. welcome to dhule\")\n",
    "\n",
    "a=greet(\"krish\")\n",
    "print(a)"
   ]
  },
  {
   "cell_type": "code",
   "execution_count": null,
   "id": "ac448765",
   "metadata": {},
   "outputs": [],
   "source": [
    "# variable length arguments\n",
    "# positional\n",
    "\n",
    "def print_num(*args):\n",
    "  for number in args:\n",
    "    print(number)\n",
    "\n",
    "  print_num(1,2,3,\"hello\")\n",
    "\n",
    "\n",
    "\n",
    "  # keywords argument\n",
    "  def nub(** args):\n",
    "    for key,value in args.items():\n",
    "      print(f\"{key}:{value}\")"
   ]
  },
  {
   "cell_type": "code",
   "execution_count": 21,
   "id": "3b37c419",
   "metadata": {},
   "outputs": [
    {
     "data": {
      "text/plain": [
       "(50, 10)"
      ]
     },
     "execution_count": 21,
     "metadata": {},
     "output_type": "execute_result"
    }
   ],
   "source": [
    "# return statment\n",
    "\n",
    "def multiply(a,b):\n",
    "  return a*b,a\n",
    "\n",
    "multiply(10,5)\n",
    "\n"
   ]
  },
  {
   "cell_type": "code",
   "execution_count": null,
   "id": "004a6c24",
   "metadata": {},
   "outputs": [],
   "source": []
  }
 ],
 "metadata": {
  "kernelspec": {
   "display_name": "Python 3",
   "language": "python",
   "name": "python3"
  },
  "language_info": {
   "codemirror_mode": {
    "name": "ipython",
    "version": 3
   },
   "file_extension": ".py",
   "mimetype": "text/x-python",
   "name": "python",
   "nbconvert_exporter": "python",
   "pygments_lexer": "ipython3",
   "version": "3.12.0"
  }
 },
 "nbformat": 4,
 "nbformat_minor": 5
}
