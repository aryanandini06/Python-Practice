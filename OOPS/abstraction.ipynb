{
 "cells": [
  {
   "cell_type": "markdown",
   "id": "b685b1d5",
   "metadata": {},
   "source": [
    "##Abstraction"
   ]
  },
  {
   "cell_type": "code",
   "execution_count": null,
   "id": "546fd5d2",
   "metadata": {},
   "outputs": [],
   "source": [
    "from abc import ABC,abstractmethod\n",
    "\n",
    "## Define an abstract class\n",
    "class Vahicle(ABC):\n",
    "  def drive(self):\n",
    "    print(\"the vahicle is used for driving\")\n",
    "\n",
    "\n",
    "  @abstractmethod\n",
    "  def start_engine(self):\n",
    "    pass\n",
    "\n",
    "## Derived class1\n",
    "class Car(Vahicle):\n",
    "  def start_engine(self):\n",
    "    print( \"Car engine started\")\n",
    "\n",
    "  def operate_vehicle(vehicle):\n",
    "    vehicle.start_engine()\n",
    "\n"
   ]
  }
 ],
 "metadata": {
  "kernelspec": {
   "display_name": "Python 3",
   "language": "python",
   "name": "python3"
  },
  "language_info": {
   "name": "python",
   "version": "3.12.0"
  }
 },
 "nbformat": 4,
 "nbformat_minor": 5
}
