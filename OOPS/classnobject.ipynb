{
 "cells": [
  {
   "cell_type": "markdown",
   "id": "a7f62f4d",
   "metadata": {},
   "source": [
    "### oops"
   ]
  },
  {
   "cell_type": "code",
   "execution_count": 3,
   "id": "592cf511",
   "metadata": {},
   "outputs": [
    {
     "name": "stdout",
     "output_type": "stream",
     "text": [
      "<class '__main__.car'>\n",
      "<__main__.car object at 0x00000155BC90D940>\n",
      "<__main__.car object at 0x00000155BC90DE20>\n",
      "4\n"
     ]
    }
   ],
   "source": [
    "#class\n",
    "#class is a blue  print for creating object\n",
    "\n",
    "class car:\n",
    "  pass\n",
    "\n",
    "audi= car()\n",
    "bmw = car()\n",
    "tata = car()\n",
    "\n",
    "print(type(audi))\n",
    "\n",
    "print(audi)\n",
    "print(bmw)\n",
    "\n",
    "audi.windows=4\n",
    "print(audi.windows)"
   ]
  },
  {
   "cell_type": "code",
   "execution_count": 4,
   "id": "5f029d5d",
   "metadata": {},
   "outputs": [
    {
     "name": "stdout",
     "output_type": "stream",
     "text": [
      "<__main__.Dog object at 0x00000155BC947410>\n",
      "buddy\n",
      "3\n"
     ]
    }
   ],
   "source": [
    "###  instance Variable and Methods\n",
    "## constractor\n",
    "class Dog:\n",
    "  def __init__(self, name, age):\n",
    "    self.name=name\n",
    "    self.age=age\n",
    "\n",
    "## create objects\n",
    "dog1=Dog(\"buddy\",3)\n",
    "print(dog1)\n",
    "print(dog1.name)\n",
    "print(dog1.age)"
   ]
  },
  {
   "cell_type": "code",
   "execution_count": 5,
   "id": "d5b0aba0",
   "metadata": {},
   "outputs": [
    {
     "name": "stdout",
     "output_type": "stream",
     "text": [
      "dogesh says woof\n",
      "dobi says woof\n"
     ]
    }
   ],
   "source": [
    "## Define a class with instance methods\n",
    "\n",
    "class Dog:\n",
    "  def __init__(self, name, age):\n",
    "    self.name=name\n",
    "    self.age=age\n",
    "\n",
    "  def bark(self):\n",
    "    print(f\"{self.name} says woof\")\n",
    "\n",
    "\n",
    "dog1=Dog(\"dogesh\",3)\n",
    "dog1.bark()\n",
    "dog2=Dog(\"dobi\",4)\n",
    "dog2.bark()\n"
   ]
  },
  {
   "cell_type": "markdown",
   "id": "654ea464",
   "metadata": {},
   "source": [
    "## Modeling a Bank Account\n"
   ]
  },
  {
   "cell_type": "code",
   "execution_count": 23,
   "id": "d09c45c4",
   "metadata": {},
   "outputs": [
    {
     "name": "stdout",
     "output_type": "stream",
     "text": [
      "500 is deposited, your Bnak balance is 3000\n",
      "1000 is withdraw. your bank balance is 2000\n"
     ]
    }
   ],
   "source": [
    "## Define a class for bank account\n",
    "\n",
    "class BankAccount:\n",
    "  def __init__(self,owner,balance=0):\n",
    "    self.owner=owner\n",
    "    self.balance=balance\n",
    "  \n",
    "  def deposite(self,amount):\n",
    "    self.balance+=amount\n",
    "    print(f\"{amount} is deposited, your Bnak balance is {self.balance}\")\n",
    "\n",
    "  def withdraw(self,amount):\n",
    "    if self.balance<=amount:\n",
    "      print(\"balance is not saficient\")\n",
    "    else:\n",
    "      self.balance-=amount\n",
    "      print(f\"{amount} is withdraw. your bank balance is {self.balance}\")\n",
    "  \n",
    "\n",
    "\n",
    "  def get_balance():\n",
    "    print(f\"your  bank balance is {self.balance}\")\n",
    "\n",
    "bankacco=BankAccount(\"nandini\",2500)\n",
    "bankacco.deposite(500)\n",
    "bankacco.withdraw(1000)\n",
    "\n",
    "\n"
   ]
  },
  {
   "cell_type": "code",
   "execution_count": null,
   "id": "f5f6be7d",
   "metadata": {},
   "outputs": [],
   "source": []
  }
 ],
 "metadata": {
  "kernelspec": {
   "display_name": "Python 3",
   "language": "python",
   "name": "python3"
  },
  "language_info": {
   "codemirror_mode": {
    "name": "ipython",
    "version": 3
   },
   "file_extension": ".py",
   "mimetype": "text/x-python",
   "name": "python",
   "nbconvert_exporter": "python",
   "pygments_lexer": "ipython3",
   "version": "3.12.0"
  }
 },
 "nbformat": 4,
 "nbformat_minor": 5
}
