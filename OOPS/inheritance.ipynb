{
 "cells": [
  {
   "cell_type": "markdown",
   "id": "7998f9c2",
   "metadata": {},
   "source": [
    "##Inhritance"
   ]
  },
  {
   "cell_type": "code",
   "execution_count": null,
   "id": "2059c2d6",
   "metadata": {},
   "outputs": [
    {
     "name": "stdout",
     "output_type": "stream",
     "text": [
      "the person will drive the petrol car\n"
     ]
    }
   ],
   "source": [
    "## inhritance\n",
    "## parent class\n",
    "\n",
    "class Car:\n",
    "  def __init__(self,windows,doors,enginetype):\n",
    "    self.windows=windows\n",
    "    self.doors= doors\n",
    "    self.enginetype=enginetype\n",
    "\n",
    "  def drive(self):\n",
    "    print(f\"the person will drive the {self.enginetype} car\")\n",
    "\n",
    "\n"
   ]
  },
  {
   "cell_type": "code",
   "execution_count": 9,
   "id": "2e3c70e7",
   "metadata": {},
   "outputs": [
    {
     "name": "stdout",
     "output_type": "stream",
     "text": [
      "the person will drive the petrol car\n"
     ]
    }
   ],
   "source": [
    "car1 = Car(4,5,\"petrol\")\n",
    "car1.drive()"
   ]
  },
  {
   "cell_type": "code",
   "execution_count": 15,
   "id": "85d71851",
   "metadata": {},
   "outputs": [],
   "source": [
    "##class 2\n",
    "\n",
    "class Tesla(Car):\n",
    "  def __init__(self,windows,doors,enginetype,is_selfdriving):\n",
    "    super().__init__(windows,doors,enginetype)     ##..........super method is use to inherite the attribute from the parent class\n",
    "    self.is_selfdriving=is_selfdriving\n",
    "\n",
    "  def selfdriving(self):\n",
    "    print(f\"Tesla aupport self driving: {self.is_selfdriving}\")"
   ]
  },
  {
   "cell_type": "code",
   "execution_count": null,
   "id": "706ed033",
   "metadata": {},
   "outputs": [],
   "source": []
  },
  {
   "cell_type": "code",
   "execution_count": 17,
   "id": "5f7e3019",
   "metadata": {},
   "outputs": [
    {
     "name": "stdout",
     "output_type": "stream",
     "text": [
      "Tesla aupport self driving: True\n"
     ]
    }
   ],
   "source": [
    "tesla1= Tesla(4,5,\"electric\",True)\n",
    "tesla1.selfdriving()"
   ]
  },
  {
   "cell_type": "code",
   "execution_count": null,
   "id": "3c656b0e",
   "metadata": {},
   "outputs": [],
   "source": []
  }
 ],
 "metadata": {
  "kernelspec": {
   "display_name": "Python 3",
   "language": "python",
   "name": "python3"
  },
  "language_info": {
   "codemirror_mode": {
    "name": "ipython",
    "version": 3
   },
   "file_extension": ".py",
   "mimetype": "text/x-python",
   "name": "python",
   "nbconvert_exporter": "python",
   "pygments_lexer": "ipython3",
   "version": "3.12.0"
  }
 },
 "nbformat": 4,
 "nbformat_minor": 5
}
