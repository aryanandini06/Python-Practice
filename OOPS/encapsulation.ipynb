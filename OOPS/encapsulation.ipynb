{
 "cells": [
  {
   "cell_type": "markdown",
   "id": "10fdb9d6",
   "metadata": {},
   "source": [
    "## encapsulation"
   ]
  },
  {
   "cell_type": "code",
   "execution_count": null,
   "id": "0442703f",
   "metadata": {},
   "outputs": [],
   "source": [
    "## Encapsulation with getter and setter  Methods\n",
    "## public , protected , private variables or access modifiers\n",
    "\n",
    "class Person:\n",
    "  def __init__(self,name,age):\n",
    "    self.name = name   ## plubic \n",
    "    self.age=age"
   ]
  },
  {
   "cell_type": "markdown",
   "id": "79676f7e",
   "metadata": {},
   "source": [
    "class with private variables its show error its dose not shows record"
   ]
  },
  {
   "cell_type": "code",
   "execution_count": 4,
   "id": "e91c18c7",
   "metadata": {},
   "outputs": [
    {
     "ename": "AttributeError",
     "evalue": "'People' object has no attribute '__name'",
     "output_type": "error",
     "traceback": [
      "\u001b[31m---------------------------------------------------------------------------\u001b[39m",
      "\u001b[31mAttributeError\u001b[39m                            Traceback (most recent call last)",
      "\u001b[36mCell\u001b[39m\u001b[36m \u001b[39m\u001b[32mIn[4]\u001b[39m\u001b[32m, line 11\u001b[39m\n\u001b[32m      8\u001b[39m     \u001b[38;5;28;01mreturn\u001b[39;00m person.__name\n\u001b[32m     10\u001b[39m person = People(\u001b[33m\"\u001b[39m\u001b[33mkrish\u001b[39m\u001b[33m\"\u001b[39m,\u001b[32m24\u001b[39m,\u001b[33m\"\u001b[39m\u001b[33mmale\u001b[39m\u001b[33m\"\u001b[39m)\n\u001b[32m---> \u001b[39m\u001b[32m11\u001b[39m \u001b[43mget_name\u001b[49m\u001b[43m(\u001b[49m\u001b[43mperson\u001b[49m\u001b[43m)\u001b[49m\n",
      "\u001b[36mCell\u001b[39m\u001b[36m \u001b[39m\u001b[32mIn[4]\u001b[39m\u001b[32m, line 8\u001b[39m, in \u001b[36mget_name\u001b[39m\u001b[34m(person)\u001b[39m\n\u001b[32m      7\u001b[39m \u001b[38;5;28;01mdef\u001b[39;00m\u001b[38;5;250m \u001b[39m\u001b[34mget_name\u001b[39m(person):\n\u001b[32m----> \u001b[39m\u001b[32m8\u001b[39m     \u001b[38;5;28;01mreturn\u001b[39;00m \u001b[43mperson\u001b[49m\u001b[43m.\u001b[49m\u001b[43m__name\u001b[49m\n",
      "\u001b[31mAttributeError\u001b[39m: 'People' object has no attribute '__name'"
     ]
    }
   ],
   "source": [
    "class People:\n",
    "  def __init__(self,name,age,gender):\n",
    "     self.__name= name          ## private variables\n",
    "     self.__age= age           ## private variables\n",
    "     self.__gender= gender\n",
    "\n",
    "def get_name(person):\n",
    "    return person.__name\n",
    "\n",
    "person = People(\"krish\",24,\"male\")\n",
    "get_name(person)\n",
    "\n",
    "\n",
    "\n"
   ]
  },
  {
   "cell_type": "code",
   "execution_count": null,
   "id": "15257ebc",
   "metadata": {},
   "outputs": [
    {
     "ename": "AttributeError",
     "evalue": "'Person' object has no attribute 'get_name'",
     "output_type": "error",
     "traceback": [
      "\u001b[31m---------------------------------------------------------------------------\u001b[39m",
      "\u001b[31mAttributeError\u001b[39m                            Traceback (most recent call last)",
      "\u001b[36mCell\u001b[39m\u001b[36m \u001b[39m\u001b[32mIn[10]\u001b[39m\u001b[32m, line 32\u001b[39m\n\u001b[32m     28\u001b[39m person= Person(\u001b[33m\"\u001b[39m\u001b[33mnandini\u001b[39m\u001b[33m\"\u001b[39m,\u001b[32m22\u001b[39m)\n\u001b[32m     30\u001b[39m \u001b[38;5;66;03m## access and modify\u001b[39;00m\n\u001b[32m---> \u001b[39m\u001b[32m32\u001b[39m \u001b[38;5;28mprint\u001b[39m(\u001b[43mperson\u001b[49m\u001b[43m.\u001b[49m\u001b[43mget_name\u001b[49m())\n\u001b[32m     33\u001b[39m \u001b[38;5;28mprint\u001b[39m(person.get_age())\n\u001b[32m     35\u001b[39m person.set_age(\u001b[32m25\u001b[39m)\n",
      "\u001b[31mAttributeError\u001b[39m: 'Person' object has no attribute 'get_name'"
     ]
    }
   ],
   "source": [
    "## encapsulation with Getter And Setter \n",
    "class Person:\n",
    "   def __init__(self,name,age):\n",
    "     self.__name= name          ## private variables\n",
    "     self.__age= age \n",
    "\n",
    "## getter method\n",
    "\n",
    "def get_name(self):\n",
    "  return self.__name\n",
    "\n",
    "## setter method\n",
    "\n",
    "def set_name(self,name):\n",
    "    self.__name=name\n",
    "\n",
    "def get_age(self):\n",
    "  return self.__age\n",
    "\n",
    "## setter  method for age \n",
    "\n",
    "def set_age(self,age):\n",
    "  if age >0:\n",
    "    self_age = age\n",
    "  else:\n",
    "    print(\"Age cannot be negative\")\n",
    "\n",
    "person= Person(\"nandini\",22)\n",
    "\n",
    "## access and modify\n",
    "\n",
    "print(person.get_name())\n",
    "print(person.get_age())\n",
    "\n",
    "person.set_age(25)\n",
    "print(person.get_age())\n",
    "\n"
   ]
  },
  {
   "cell_type": "code",
   "execution_count": null,
   "id": "15f7689d",
   "metadata": {},
   "outputs": [],
   "source": []
  }
 ],
 "metadata": {
  "kernelspec": {
   "display_name": "Python 3",
   "language": "python",
   "name": "python3"
  },
  "language_info": {
   "codemirror_mode": {
    "name": "ipython",
    "version": 3
   },
   "file_extension": ".py",
   "mimetype": "text/x-python",
   "name": "python",
   "nbconvert_exporter": "python",
   "pygments_lexer": "ipython3",
   "version": "3.12.0"
  }
 },
 "nbformat": 4,
 "nbformat_minor": 5
}
