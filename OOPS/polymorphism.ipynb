{
 "cells": [
  {
   "cell_type": "markdown",
   "id": "ae7a683b",
   "metadata": {},
   "source": [
    "## polymorphism"
   ]
  },
  {
   "cell_type": "markdown",
   "id": "ed9ace41",
   "metadata": {},
   "source": [
    " methode overrideing "
   ]
  },
  {
   "cell_type": "markdown",
   "id": "1b0616d1",
   "metadata": {},
   "source": []
  },
  {
   "cell_type": "code",
   "execution_count": 4,
   "id": "5895258f",
   "metadata": {},
   "outputs": [
    {
     "name": "stdout",
     "output_type": "stream",
     "text": [
      "woof!\n",
      "meow \n"
     ]
    }
   ],
   "source": [
    "## base class\n",
    "\n",
    "class Animal:\n",
    "  def speak(self):\n",
    "    return \"sound od the animal\"\n",
    "\n",
    "## derived class 1 \n",
    "\n",
    "class Dog(Animal):\n",
    "  def speak(self):\n",
    "    return \"woof!\"\n",
    "\n",
    "## derived class 2\n",
    "\n",
    "class Cat(Animal):\n",
    "  def speak(self):\n",
    "    return\"meow \" \n",
    "\n",
    "dog1= Dog()\n",
    "cat1 =Cat()\n",
    "\n",
    "print(dog1.speak())\n",
    "print(cat1.speak())\n",
    "\n",
    "\n",
    "\n"
   ]
  },
  {
   "cell_type": "markdown",
   "id": "12014289",
   "metadata": {},
   "source": [
    "polymorphism with function and Methods "
   ]
  },
  {
   "cell_type": "code",
   "execution_count": null,
   "id": "299318b6",
   "metadata": {},
   "outputs": [],
   "source": []
  },
  {
   "cell_type": "code",
   "execution_count": 9,
   "id": "a0b63496",
   "metadata": {},
   "outputs": [],
   "source": [
    "# base class\n",
    "\n",
    "class Shape:\n",
    "  def  area(self):\n",
    "    return \" the area of the figure\"\n",
    "\n",
    "# derived class \n",
    "\n",
    "class Rectangle(Shape):\n",
    "  def __init__(self,width,height):\n",
    "    self.width=width\n",
    "    self.height=height\n",
    "\n",
    "  def area(self):\n",
    "    return self.width*self.height\n",
    "\n"
   ]
  },
  {
   "cell_type": "code",
   "execution_count": 18,
   "id": "334c9e51",
   "metadata": {},
   "outputs": [],
   "source": [
    "## derived class 2\n",
    "\n",
    "class Circle(Shape):\n",
    "  def __init__(self,radius):\n",
    "     self.radius=radius\n",
    "\n",
    "  def area(self):\n",
    "    return 3.14* self.radius * self.radius\n"
   ]
  },
  {
   "cell_type": "code",
   "execution_count": 22,
   "id": "1edb6617",
   "metadata": {},
   "outputs": [
    {
     "name": "stdout",
     "output_type": "stream",
     "text": [
      "460\n",
      "28.259999999999998\n"
     ]
    }
   ],
   "source": [
    "rectangle = Rectangle(23,20)\n",
    "circle = Circle(3)\n",
    "\n",
    "print(rectangle.area())\n",
    "print(circle.area())\n",
    "\n"
   ]
  },
  {
   "cell_type": "markdown",
   "id": "f5fde48f",
   "metadata": {},
   "source": [
    "abstract base class"
   ]
  },
  {
   "cell_type": "code",
   "execution_count": 24,
   "id": "2df12b1a",
   "metadata": {},
   "outputs": [],
   "source": [
    "from abc import ABC,abstractmethod\n",
    "\n",
    "## Define an abstract class\n",
    "class Vahicle:\n",
    "  @abstractmethod\n",
    "  def start_engine(self):\n",
    "    pass\n",
    "\n",
    "## Derived class1\n",
    "class Car(Vahicle):\n",
    "  def start_engine(self):\n",
    "    return \"Car engine started\"\n",
    "\n",
    "## Derived class 2\n",
    "\n",
    "class Motercycle(Vahicle):\n",
    "  def start_engine(self):\n",
    "    return \"Motercycle engine started\"\n",
    "\n",
    "# function that demostractes polymorphism\n",
    "\n",
    "def start_vehicle(Vahicle):\n",
    "  print(vehicle.start_engine())\n",
    "\n",
    "## create object of car and motercycle\n",
    "\n",
    "car= Car()\n",
    "motercycle= Motercycle"
   ]
  },
  {
   "cell_type": "code",
   "execution_count": null,
   "id": "e1390d79",
   "metadata": {},
   "outputs": [],
   "source": []
  }
 ],
 "metadata": {
  "kernelspec": {
   "display_name": "Python 3",
   "language": "python",
   "name": "python3"
  },
  "language_info": {
   "codemirror_mode": {
    "name": "ipython",
    "version": 3
   },
   "file_extension": ".py",
   "mimetype": "text/x-python",
   "name": "python",
   "nbconvert_exporter": "python",
   "pygments_lexer": "ipython3",
   "version": "3.12.0"
  }
 },
 "nbformat": 4,
 "nbformat_minor": 5
}
