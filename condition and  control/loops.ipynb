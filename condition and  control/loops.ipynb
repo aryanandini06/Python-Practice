{
 "cells": [
  {
   "cell_type": "markdown",
   "id": "fe1b6ca8",
   "metadata": {},
   "source": [
    "loop\n"
   ]
  },
  {
   "cell_type": "code",
   "execution_count": 3,
   "id": "b2d52ff8",
   "metadata": {},
   "outputs": [
    {
     "name": "stdout",
     "output_type": "stream",
     "text": [
      "0\n",
      "1\n",
      "2\n",
      "3\n",
      "4\n",
      "5\n",
      "6\n",
      "7\n",
      "8\n",
      "9\n"
     ]
    }
   ],
   "source": [
    "## for loop\n",
    "for i in range(10):\n",
    "  print(i)\n"
   ]
  },
  {
   "cell_type": "code",
   "execution_count": 19,
   "id": "dc31024e",
   "metadata": {},
   "outputs": [
    {
     "ename": "IndentationError",
     "evalue": "unindent does not match any outer indentation level (<string>, line 11)",
     "output_type": "error",
     "traceback": [
      "  \u001b[36mFile \u001b[39m\u001b[32m<string>:11\u001b[39m\n\u001b[31m    \u001b[39m\u001b[31mstr=\"krish\"\u001b[39m\n               ^\n\u001b[31mIndentationError\u001b[39m\u001b[31m:\u001b[39m unindent does not match any outer indentation level\n"
     ]
    }
   ],
   "source": [
    "#eample for for loop\n",
    "for i in range(2,8):\n",
    "  print(i)\n",
    "\n",
    "#2]\n",
    "for j in range(10,1,-1):\n",
    "  print(j)\n",
    "\n",
    "\n",
    "# 3] string\n",
    " str=\"krish\"\n",
    " for l in str:\n",
    "  print(l)\n"
   ]
  },
  {
   "cell_type": "code",
   "execution_count": 20,
   "id": "561714d3",
   "metadata": {},
   "outputs": [
    {
     "name": "stdout",
     "output_type": "stream",
     "text": [
      "k\n",
      "r\n",
      "i\n",
      "s\n",
      "h\n"
     ]
    }
   ],
   "source": [
    " str=\"krish\"\n",
    " for l in str:\n",
    "  print(l)"
   ]
  },
  {
   "cell_type": "markdown",
   "id": "5780e6ff",
   "metadata": {},
   "source": [
    "while loop "
   ]
  },
  {
   "cell_type": "code",
   "execution_count": 32,
   "id": "8e7efa25",
   "metadata": {},
   "outputs": [
    {
     "name": "stdout",
     "output_type": "stream",
     "text": [
      "0\n",
      "1\n",
      "2\n",
      "3\n",
      "4\n"
     ]
    }
   ],
   "source": [
    "count= 0 \n",
    "while count<5:\n",
    "  print(count)\n",
    "  count= count+1"
   ]
  },
  {
   "cell_type": "code",
   "execution_count": 40,
   "id": "b71dbaa8",
   "metadata": {},
   "outputs": [
    {
     "ename": "IndentationError",
     "evalue": "unexpected indent (12984228.py, line 4)",
     "output_type": "error",
     "traceback": [
      "  \u001b[36mCell\u001b[39m\u001b[36m \u001b[39m\u001b[32mIn[40]\u001b[39m\u001b[32m, line 4\u001b[39m\n\u001b[31m    \u001b[39m\u001b[31mfor i in range(10):\u001b[39m\n    ^\n\u001b[31mIndentationError\u001b[39m\u001b[31m:\u001b[39m unexpected indent\n"
     ]
    }
   ],
   "source": [
    "# loop control statement\n",
    "#1] break\n",
    "\n",
    " for i in range(10):\n",
    "  if i==5:\n",
    "    break\n",
    "  print(i)\n",
    "\n",
    "  # 2] continue\n",
    "\n",
    "   for j in range(10):\n",
    "    if j%2==0:\n",
    "      continue\n",
    "    print(j)"
   ]
  },
  {
   "cell_type": "code",
   "execution_count": null,
   "id": "11a77efa",
   "metadata": {},
   "outputs": [
    {
     "name": "stdout",
     "output_type": "stream",
     "text": [
      "i:0 and j:0\n",
      "i:0 and j:1\n",
      "i:1 and j:0\n",
      "i:1 and j:1\n",
      "i:2 and j:0\n",
      "i:2 and j:1\n"
     ]
    }
   ],
   "source": [
    "\n",
    " for i in range(3):  # neasted loop\n",
    "  for j in range(2):\n",
    "    print(f\"i:{i} and j:{j}\")"
   ]
  },
  {
   "cell_type": "markdown",
   "id": "323d489f",
   "metadata": {},
   "source": [
    " example calculate the sum of first 10 natural number unsing while loop and for loop "
   ]
  },
  {
   "cell_type": "code",
   "execution_count": null,
   "id": "39c714e2",
   "metadata": {},
   "outputs": [
    {
     "name": "stdout",
     "output_type": "stream",
     "text": [
      "sum of 10 num is  55\n"
     ]
    }
   ],
   "source": [
    "n=10\n",
    "sum=0\n",
    "count=1\n",
    "while count<=n:\n",
    "  sum=sum+count\n",
    "  count= count+1\n",
    "print( \"sum of 10 num is \",sum) # using while loop\n",
    "  "
   ]
  },
  {
   "cell_type": "code",
   "execution_count": null,
   "id": "f806ffee",
   "metadata": {},
   "outputs": [
    {
     "name": "stdout",
     "output_type": "stream",
     "text": [
      "55\n"
     ]
    }
   ],
   "source": [
    "n= 10\n",
    "sum= 0\n",
    "for i in range(11):\n",
    "  sum= sum+i\n",
    "print (sum)\n",
    " # for loop\n"
   ]
  },
  {
   "cell_type": "code",
   "execution_count": 54,
   "id": "26e87964",
   "metadata": {},
   "outputs": [],
   "source": [
    "for i in range(101):\n",
    "  if num>1:\n",
    "    for j in range(2,i):\n",
    "      if num%i==0:\n",
    "        break\n",
    "      else:\n",
    "        print(num)"
   ]
  },
  {
   "cell_type": "code",
   "execution_count": null,
   "id": "4314df84",
   "metadata": {},
   "outputs": [],
   "source": []
  }
 ],
 "metadata": {
  "kernelspec": {
   "display_name": "Python 3",
   "language": "python",
   "name": "python3"
  },
  "language_info": {
   "codemirror_mode": {
    "name": "ipython",
    "version": 3
   },
   "file_extension": ".py",
   "mimetype": "text/x-python",
   "name": "python",
   "nbconvert_exporter": "python",
   "pygments_lexer": "ipython3",
   "version": "3.12.0"
  }
 },
 "nbformat": 4,
 "nbformat_minor": 5
}
