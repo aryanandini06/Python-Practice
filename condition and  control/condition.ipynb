{
 "cells": [
  {
   "cell_type": "markdown",
   "id": "b501c997",
   "metadata": {},
   "source": [
    "condition statement(if, elif,else)"
   ]
  },
  {
   "cell_type": "code",
   "execution_count": 1,
   "id": "df38dbc9",
   "metadata": {},
   "outputs": [
    {
     "name": "stdout",
     "output_type": "stream",
     "text": [
      "you are allowed to vote\n"
     ]
    }
   ],
   "source": [
    "# if statement\n",
    "age= 20 \n",
    "if age>=18:\n",
    "  print(\"you are allowed to vote\")\n"
   ]
  },
  {
   "cell_type": "code",
   "execution_count": 2,
   "id": "aba2b6f7",
   "metadata": {},
   "outputs": [
    {
     "name": "stdout",
     "output_type": "stream",
     "text": [
      "you are minor\n"
     ]
    }
   ],
   "source": [
    "# else statement\n",
    "age= 16\n",
    "if age >=18:\n",
    "  print(\"you are eligible for voting\")\n",
    "else:\n",
    "  print(\"you are minor\")\n"
   ]
  },
  {
   "cell_type": "code",
   "execution_count": 4,
   "id": "9ac110b3",
   "metadata": {},
   "outputs": [
    {
     "name": "stdout",
     "output_type": "stream",
     "text": [
      "you are an adult\n"
     ]
    }
   ],
   "source": [
    "#elif\n",
    "age = 20\n",
    "if age<13:\n",
    "  print(\"you are a child\")\n",
    "elif age<18:\n",
    "  print(\"you are an teenager\")\n",
    "elif age>=18:\n",
    "  print(\"you are an adult\") \n",
    "\n",
    "\n",
    " "
   ]
  },
  {
   "cell_type": "code",
   "execution_count": 12,
   "id": "259f2996",
   "metadata": {},
   "outputs": [
    {
     "name": "stdout",
     "output_type": "stream",
     "text": [
      "number is positive\n",
      "number is odd\n"
     ]
    }
   ],
   "source": [
    "#nested condition statement\n",
    "\n",
    "# number is even ,odd ,negative,positive\n",
    "\n",
    "num= float(input(\"write a number\"))\n",
    "if num>=0:\n",
    "  print(\"number is positive\")\n",
    "  if num%2==0:\n",
    "    print(\"number is even\")\n",
    "  else:\n",
    "    print(\"number is odd\")\n",
    "else:\n",
    "  print(\"number is negative\")\n",
    "\n",
    "\n"
   ]
  },
  {
   "cell_type": "code",
   "execution_count": 17,
   "id": "5fa98a15",
   "metadata": {},
   "outputs": [
    {
     "name": "stdout",
     "output_type": "stream",
     "text": [
      "2024 is not leap year\n"
     ]
    }
   ],
   "source": [
    "# practice example \n",
    " ## determine if a year is a leap year using nested condition statment\n",
    "\n",
    "y=int(input(\"enter a year\"))\n",
    "\n",
    "if y%4==0:\n",
    "  if y%100==0:\n",
    "    if y%400==0:\n",
    "      print(y,\"is leap year\")\n",
    "    else:\n",
    "      print(y,\"is not leap year\")\n",
    "  else:\n",
    "    print(y,\"is not leap year\")\n",
    "else:\n",
    "  print(y,\"is not leap year\")\n",
    "  \n",
    "\n",
    "\n"
   ]
  },
  {
   "cell_type": "code",
   "execution_count": 19,
   "id": "ff97ae62",
   "metadata": {},
   "outputs": [
    {
     "name": "stdout",
     "output_type": "stream",
     "text": [
      "Result : Invalid operation\n"
     ]
    }
   ],
   "source": [
    "# practice example \n",
    " #calculator\n",
    "\n",
    "num1 =float(input(\"enter first no:\"))\n",
    "num2= float(input(\"enter second no:\"))\n",
    "operation = input(\"enter what operation do you want (+,-,*,/)\")\n",
    "\n",
    "if operation == '+':\n",
    "  result= num1 + nmu2\n",
    "\n",
    "elif operation == '-':\n",
    "   result= num1 - nmu2\n",
    "\n",
    "elif operation == \"*\":\n",
    "   result= num1 * nmu2\n",
    "\n",
    "elif operation == \"/\":\n",
    "  if num2 != 0:\n",
    "    result =  num1 / num2\n",
    "  else:\n",
    "    result = \"Invalid operation\"\n",
    "    \n",
    "print (\"Result :\", result)\n"
   ]
  },
  {
   "cell_type": "code",
   "execution_count": null,
   "id": "e0a6a481",
   "metadata": {},
   "outputs": [],
   "source": []
  }
 ],
 "metadata": {
  "kernelspec": {
   "display_name": "Python 3",
   "language": "python",
   "name": "python3"
  },
  "language_info": {
   "codemirror_mode": {
    "name": "ipython",
    "version": 3
   },
   "file_extension": ".py",
   "mimetype": "text/x-python",
   "name": "python",
   "nbconvert_exporter": "python",
   "pygments_lexer": "ipython3",
   "version": "3.12.0"
  }
 },
 "nbformat": 4,
 "nbformat_minor": 5
}
